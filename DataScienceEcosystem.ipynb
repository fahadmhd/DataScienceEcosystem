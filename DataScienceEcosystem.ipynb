{
 "cells": [
  {
   "cell_type": "markdown",
   "id": "d438429a-8f31-4a72-9a29-f87e72a08c73",
   "metadata": {},
   "source": [
    "# Data Science Tools and Ecosystem"
   ]
  },
  {
   "cell_type": "markdown",
   "id": "3e111f36-6582-4486-abc9-0b0f38b58157",
   "metadata": {},
   "source": [
    "In this notebook, Data Science Tools and Ecosystem are summarized."
   ]
  },
  {
   "cell_type": "markdown",
   "id": "c8be3a98-0e30-4630-9935-8f6ce75de5d0",
   "metadata": {
    "tags": []
   },
   "source": [
    "**Objectives**:\n",
    "- List popular languages for Data Science\n",
    "- Some of the commonly used libraries used by Data Scientists\n",
    "- How to make tables, ordered and unordered lists"
   ]
  },
  {
   "cell_type": "markdown",
   "id": "70c4504e-9a98-419a-bfea-7b06bea65b34",
   "metadata": {
    "tags": []
   },
   "source": [
    "Some of the popular languages that Data Scientists use are:\n",
    "1. Python\n",
    "1. R\n",
    "3. Scala"
   ]
  },
  {
   "cell_type": "markdown",
   "id": "8602d3e0-5911-477a-8ac9-ef76a27648cc",
   "metadata": {
    "tags": []
   },
   "source": [
    "Some of the commonly used libraries used by Data Scientists include:\n",
    "1. Scikit-learn\n",
    "1. TensorFlow\n",
    "1. PySpark"
   ]
  },
  {
   "cell_type": "markdown",
   "id": "8f5473d3-1401-44a8-ad00-4c6d143d337d",
   "metadata": {
    "tags": []
   },
   "source": [
    "| Data Science Tools|\n",
    "|:--------:|\n",
    "|  Spark  |\n",
    "|  Panda  |\n",
    "|  Weka  |"
   ]
  },
  {
   "cell_type": "markdown",
   "id": "1521f551-f8cc-4595-adf6-49ed533c2d29",
   "metadata": {
    "tags": []
   },
   "source": [
    "### Below are a few examples of evaluating arithmetic expressions in Python"
   ]
  },
  {
   "cell_type": "code",
   "execution_count": 4,
   "id": "81addb3f-66b5-4ee2-8199-d687c6f31256",
   "metadata": {
    "tags": []
   },
   "outputs": [
    {
     "data": {
      "text/plain": [
       "17"
      ]
     },
     "execution_count": 4,
     "metadata": {},
     "output_type": "execute_result"
    }
   ],
   "source": [
    "# This a simple arithmetic expression to mutiply then add integers\n",
    "(3*4)+5"
   ]
  },
  {
   "cell_type": "code",
   "execution_count": 5,
   "id": "c40f0c02-96fc-4916-95a3-3d3812a106de",
   "metadata": {
    "tags": []
   },
   "outputs": [
    {
     "data": {
      "text/plain": [
       "3.3333333333333335"
      ]
     },
     "execution_count": 5,
     "metadata": {},
     "output_type": "execute_result"
    }
   ],
   "source": [
    "# This will convert 200 minutes to hours by diving by 60\n",
    "200/60"
   ]
  },
  {
   "cell_type": "markdown",
   "id": "a96e38d4-2cbe-42ff-8605-64c9e8b29cf0",
   "metadata": {},
   "source": [
    "## Author \n",
    "Fahad Muhammad"
   ]
  },
  {
   "cell_type": "code",
   "execution_count": null,
   "id": "8f7b8502-49a4-4ac7-8e46-7c98d2a5ec1a",
   "metadata": {},
   "outputs": [],
   "source": []
  }
 ],
 "metadata": {
  "kernelspec": {
   "display_name": "Python",
   "language": "python",
   "name": "conda-env-python-py"
  },
  "language_info": {
   "codemirror_mode": {
    "name": "ipython",
    "version": 3
   },
   "file_extension": ".py",
   "mimetype": "text/x-python",
   "name": "python",
   "nbconvert_exporter": "python",
   "pygments_lexer": "ipython3",
   "version": "3.7.12"
  }
 },
 "nbformat": 4,
 "nbformat_minor": 5
}
